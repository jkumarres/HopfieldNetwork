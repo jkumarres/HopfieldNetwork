{
 "cells": [
  {
   "attachments": {},
   "cell_type": "markdown",
   "metadata": {},
   "source": [
    "## Finding stable patterns in Hopfield model with random weights"
   ]
  },
  {
   "cell_type": "code",
   "execution_count": 1,
   "metadata": {},
   "outputs": [],
   "source": [
    "import numpy as np\n",
    "import matplotlib.pyplot as plt"
   ]
  },
  {
   "cell_type": "code",
   "execution_count": 2,
   "metadata": {},
   "outputs": [],
   "source": [
    "Width  = 5\n",
    "Height = 5"
   ]
  },
  {
   "attachments": {},
   "cell_type": "markdown",
   "metadata": {},
   "source": [
    "### Initializing random weights"
   ]
  },
  {
   "cell_type": "code",
   "execution_count": 3,
   "metadata": {},
   "outputs": [
    {
     "data": {
      "image/png": "[encoded data removed]",
      "text/plain": [
       "<Figure size 432x288 with 2 Axes>"
      ]
     },
     "metadata": {
      "needs_background": "light"
     },
     "output_type": "display_data"
    }
   ],
   "source": [
    "Jij = np.random.rand(Width*Height, Width*Height) * 2 - 1\n",
    "\n",
    "# for i in range(Width*Height):\n",
    "#    Weight[i,i] = 0\n",
    "\n",
    "Jij = (Jij + Jij.T)/2\n",
    "\n",
    "plt.imshow(Jij, cmap='gray')\n",
    "plt.colorbar()\n",
    "plt.show()"
   ]
  },
  {
   "attachments": {},
   "cell_type": "markdown",
   "metadata": {},
   "source": [
    "### Initializing random inputs"
   ]
  },
  {
   "cell_type": "code",
   "execution_count": 4,
   "metadata": {},
   "outputs": [
    {
     "data": {
      "image/png": "[encoded data removed]",
      "text/plain": [
       "<Figure size 432x288 with 2 Axes>"
      ]
     },
     "metadata": {
      "needs_background": "light"
     },
     "output_type": "display_data"
    }
   ],
   "source": [
    "Input = np.random.rand(Width*Height,1) > 0.5\n",
    "Input = 2 * Input - 1\n",
    "\n",
    "plt.imshow(Input.reshape(Width,Height), cmap='gray')\n",
    "plt.colorbar()\n",
    "plt.show()"
   ]
  },
  {
   "attachments": {},
   "cell_type": "markdown",
   "metadata": {},
   "source": [
    "### Energy minimization using Monte-Carlo method"
   ]
  },
  {
   "attachments": {},
   "cell_type": "markdown",
   "metadata": {},
   "source": [
    "Energy of the system: $E = \\frac{1}{2} \\; \\sum_{i,j} \\; J_{ij} \\; s_i \\; s_j$"
   ]
  },
  {
   "cell_type": "code",
   "execution_count": 6,
   "metadata": {},
   "outputs": [
    {
     "data": {
      "image/png": "[encoded data removed]",
      "text/plain": [
       "<Figure size 1080x360 with 6 Axes>"
      ]
     },
     "metadata": {
      "needs_background": "light"
     },
     "output_type": "display_data"
    }
   ],
   "source": [
    "MaxEpoch = 5\n",
    "\n",
    "fig, axs = plt.subplots(1, MaxEpoch+1, figsize=(15, 5))\n",
    "axs[0].imshow(Input.reshape(Width,Height), cmap='gray')\n",
    "\n",
    "for Epoch in range(MaxEpoch):\n",
    "    for i in range(Width*Height):\n",
    "\n",
    "        j = np.random.randint(Width*Height)\n",
    "        Output = np.copy(Input)\n",
    "\n",
    "        # Flip the j-th spin\n",
    "        Output[j] = -1 * Output[j]\n",
    "\n",
    "        EneryBefore = -0.5 * np.matmul(np.matmul(Input.T, Jij), Input)\n",
    "        EneryAfter  = -0.5 * np.matmul(np.matmul(Output.T, Jij), Output)\n",
    "\n",
    "        if EneryAfter < EneryBefore:\n",
    "            Input = np.copy(Output)\n",
    "        elif np.random.rand() < np.exp(-(EneryAfter - EneryBefore)):\n",
    "            Input = np.copy(Output)\n",
    "\n",
    "        Input[j] = np.sign(np.matmul(Jij[j,:], Input))\n",
    "\n",
    "    axs[Epoch+1].imshow(Input.reshape(Width,Height), cmap='gray')\n",
    "\n",
    "plt.tight_layout()\n",
    "plt.show()"
   ]
  }
 ],
 "metadata": {
  "kernelspec": {
   "display_name": "Python 3",
   "language": "python",
   "name": "python3"
  },
  "language_info": {
   "codemirror_mode": {
    "name": "ipython",
    "version": 3
   },
   "file_extension": ".py",
   "mimetype": "text/x-python",
   "name": "python",
   "nbconvert_exporter": "python",
   "pygments_lexer": "ipython3",
   "version": "3.10.6"
  },
  "orig_nbformat": 4
 },
 "nbformat": 4,
 "nbformat_minor": 2
}
